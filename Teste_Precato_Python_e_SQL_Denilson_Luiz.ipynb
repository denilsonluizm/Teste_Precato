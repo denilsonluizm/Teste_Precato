{
 "cells": [
  {
   "cell_type": "markdown",
   "metadata": {},
   "source": [
    "# Utilizando Python + SQL\n",
    "\n",
    "Considera-se aqui banco de dados de nome \"Precato\" com as tabelas: credor, ente_devedor e pagamento.\n",
    "Essas são as mesmas tabelas em formato .csv utilizadas no código em c++, elas são simplesmente importadas\n",
    "no banco de dados \"Precato\" em qualquer editor SQL."
   ]
  },
  {
   "cell_type": "code",
   "execution_count": 1,
   "metadata": {},
   "outputs": [],
   "source": [
    "import psycopg2 as pg2  # biblioteca para conexao com banco de datos\n",
    "from datetime import datetime\n",
    "\n",
    "class Pagamento:  # class para guardar os inputs (equivalente a Struct em c++)\n",
    "    id_remessa = ''\n",
    "    id_credor = ''\n",
    "    id_ente_devedor = ''\n",
    "    valor_inicial = ''\n",
    "    valor_final = ''\n",
    "    data = ''\n",
    "    status_remessa = ''\n",
    "    motivo = ''\n",
    "    \n",
    "tipo=1\n"
   ]
  },
  {
   "cell_type": "code",
   "execution_count": null,
   "metadata": {},
   "outputs": [],
   "source": [
    "# a funcao recebe apenas um parametro, o class com os inputs\n",
    "def SolicitaPagamento(parametro):\n",
    "    \n",
    "    # abre conexao com o banco de dados 'Precato'\n",
    "    # user e password dependem da alocacao do banco de dados\n",
    "    conn = pg2.connect(database = 'Precato', user = 'postgres', password = 'exemplo_senha')\n",
    "    \n",
    "    cur = conn.cursor()\n",
    "    \n",
    "    p = parametro()\n",
    "    \n",
    "    # verifica se existe credor\n",
    "    cur.execute('SELECT id_credor FROM credor WHERE id_credor =' + p.id_credor)\n",
    "    existe_credor = cur.fetchone()\n",
    "    \n",
    "    if type(extiste_credor)!=type(tipo):\n",
    "        p.status_remessa = 'INVALIDA'\n",
    "        p.motivo = 'CREDOR_INEXISTENTE'\n",
    "        \n",
    "        else:\n",
    "            # verifica cadstro do credor\n",
    "            cur.execute('SELECT status_cadastro FROM credor WHERE id_credor =' + p.id_credor)\n",
    "            status_cadastro = cur.fetchone()\n",
    "            \n",
    "            if status_cadastro[0]=='R':\n",
    "                p.status_remessa = 'INVALIDA'\n",
    "                p.motivo = 'CREDOR_REPROVADO'\n",
    "                \n",
    "                else:\n",
    "                    # verifica se existe ente devedor\n",
    "                    cur.execute('SELECT id_ente_devedor FROM ente_devedor WHERE id_ente_devedor =' + p.id_ente_devedor)\n",
    "                    existe_devedor = cur.fetchone()\n",
    "                    \n",
    "                    if type(extiste_devedor)!=type(tipo):\n",
    "                        p.status_remessa = 'INVALIDA'\n",
    "                        p.motivo = 'DEVEDOR_INEXISTENTE'\n",
    "                        \n",
    "                        else:\n",
    "                            # verifica condicoes dos valores\n",
    "                            if p.valor_inicial<0 || p.valor_final<0 || p.valor_final > p.valor_inicial:\n",
    "                                p.status_remessa = 'INVALIDA'\n",
    "                                p.motivo = 'VALORES_INCONSISTENTES'\n",
    "                                \n",
    "                                else:\n",
    "                                    p.status_remessa = 'VALIDA'\n",
    "                                    p.motivo = ''\n",
    "    \n",
    "    # armazena data em timestamp em formato string para armazenar no banco de dados\n",
    "    agora = datetime.now()\n",
    "    agora_timestamp = datetime.timestamp(agora)\n",
    "    p.data = str(agora_timestamp)\n",
    "    \n",
    "    # comando para inserir dados na tabela\n",
    "    comando = \" INSERT INTO pagamento (id_remessa, id_credor, id_ente_devedor, valor_inicial, valor_final, data, status_remessa) VALUES ( '  \" + str(p.id_remessa) + \"  ', ' \" + str(p.id_credor) + \" ', ' \" + str(p.id_ente_devedor) + \" ', ' \" + str(p.valor_inicial) + \" ', ' \" + str(p.valor_final) + \" ', ' \" + str(p.data) + \" ', ' \" + str(p.status_remessa) + \" ', ' \" + str(p.motivo) + \" ') \"  \n",
    "    cur.execute(comando)\n",
    "    \n",
    "    # encerra conexao\n",
    "    cnn.close()"
   ]
  }
 ],
 "metadata": {
  "kernelspec": {
   "display_name": "Python 3",
   "language": "python",
   "name": "python3"
  },
  "language_info": {
   "codemirror_mode": {
    "name": "ipython",
    "version": 3
   },
   "file_extension": ".py",
   "mimetype": "text/x-python",
   "name": "python",
   "nbconvert_exporter": "python",
   "pygments_lexer": "ipython3",
   "version": "3.8.3"
  }
 },
 "nbformat": 4,
 "nbformat_minor": 4
}
